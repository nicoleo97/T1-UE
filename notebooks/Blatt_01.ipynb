{
 "cells": [
  {
   "cell_type": "markdown",
   "metadata": {},
   "source": [
    "# Blatt 1\n",
    "### Übung zu Theoretische Physik 1"
   ]
  },
  {
   "cell_type": "markdown",
   "metadata": {},
   "source": [
    "## Aufgabe 1.1\n",
    "Slackline. Eine Slackline der Länge L ist zwischen zwei Bäumen gespannt, ein\n",
    "Mensch (Masse m) balanciert genau in der Mitte, wobei die Slackline so durchhängt,\n",
    "dass die Fuße um den Abstand ¨ d tiefer sind als die Aufhängung. Welchen Betrag\n",
    "hat die Kraft, mit der die Slackline gespannt ist? Gib die allgemeine Formel an, und\n",
    "berechne den Zahlenwert für ¨ m = 70 kg, L = 6 m, d = 40 cm.\n"
   ]
  },
  {
   "cell_type": "code",
   "execution_count": null,
   "metadata": {},
   "outputs": [],
   "source": []
  },
  {
   "cell_type": "markdown",
   "metadata": {},
   "source": [
    "## Aufgabe 1.2\n",
    "Bewegungen. Bestimme fur ¨ eine der folgenden eindimensionalen, durch x(t) beschriebenen Bewegungen die Geschwindigkeit v(t) und die Beschleunigung a(t), skizziere die entsprechenden Graphen und disukutiere die Bewegung qualitativ.\n",
    "x1(t) = e\n",
    "−t\n",
    "cost , x2(t) = ln(2 − e\n",
    "−t\n",
    ") , x3(t) = √\n",
    "1 − t\n",
    "2\n",
    "[Hinweis: Wir betrachten hier x und t als reine Zahlenwerte (fixierte Einheiten).]"
   ]
  },
  {
   "cell_type": "code",
   "execution_count": null,
   "metadata": {},
   "outputs": [],
   "source": []
  },
  {
   "cell_type": "markdown",
   "metadata": {},
   "source": [
    "## Aufgabe 1.3\n",
    "Gravitationsbeschleunigung.\n",
    "(a) Ein Planet habe eine mittlere Massendichte ¯ρ und den Radius R. Gib die\n",
    "Gravitationsbeschleunigung gPlanet an der Oberfl¨ache des Planeten an.\n",
    "(b) Welche Masse M musste ein schwarzes Loch haben, damit die Gravitationsbe- ¨\n",
    "schleunigung in einer Entfernung von r = 1 mm genauso groß wie die Erdbeschleunigung g ist?\n"
   ]
  },
  {
   "cell_type": "code",
   "execution_count": null,
   "metadata": {},
   "outputs": [],
   "source": []
  },
  {
   "cell_type": "markdown",
   "metadata": {},
   "source": [
    "## Aufgabe 1.4\n",
    "Bremswege. Im Folgenden betrachten wir den Bremsweg eines Fahrzeugs. Der\n",
    "Betrag |F⃗\n",
    "R| der Reibungskraft ist dabei proportional zum Betrag |N⃗ | der Kraft N⃗ ,\n",
    "mit der das Fahrzeug auf die Oberfl¨ache gedruckt wird (Normalkraft), ¨\n",
    "|F⃗\n",
    "R| = µ |N⃗ | ,\n",
    "mit einem Reibungskoeffizienten µ. Die Reibungskraft wirkt entgegengesetzt zur\n",
    "Geschwindigkeit.\n",
    "(a) Stelle die eindimensionale Bewegungsgleichung fur ein Fahrzeug auf, das sich ¨\n",
    "in positiver x-Richtung bewegt, wobei die Normalkraft durch die Gravitationsbeschleunigung g zustande kommt.\n",
    "(b) Gib die L¨osung x(t) fur die Anfangsbedingungen ¨ x(0) = 0 und ˙x(0) = v0 an.\n",
    "(c) Bestimme den Bremsweg in Abh¨angigkeit von v0, g und µ.\n",
    "(d) Was ist der Bremsweg fur ¨ v0 = 100 km/h, µ = 0, 8 und g ≈ 9, 8 m/s\n",
    "2\n",
    "? Welche\n",
    "Geschwindigkeit musste ein Fahrzeug auf dem Mars ( ¨ gMars ≈ 3, 7 m/s\n",
    "2\n",
    ") haben\n",
    "fur den gleichen Bremsweg?"
   ]
  },
  {
   "cell_type": "code",
   "execution_count": null,
   "metadata": {},
   "outputs": [],
   "source": []
  }
 ],
 "metadata": {
  "language_info": {
   "name": "python"
  }
 },
 "nbformat": 4,
 "nbformat_minor": 2
}
