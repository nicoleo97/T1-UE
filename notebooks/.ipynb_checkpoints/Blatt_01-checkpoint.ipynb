{
 "cells": [
  {
   "cell_type": "markdown",
   "metadata": {},
   "source": [
    "# Blatt 1\n",
    "### Übung zu Theoretische Physik 1"
   ]
  },
  {
   "cell_type": "markdown",
   "metadata": {},
   "source": [
    "## Aufgabe 1.1\n",
    "**Slackline**. Eine Slackline der Länge L ist zwischen zwei Bäumen gespannt, ein Mensch (*Masse $m$*) balanciert genau in der Mitte, wobei die Slackline so durchhängt, dass die Füße um den Abstand $d$ tiefer sind als die Aufhängung. Welchen Betrag hat die Kraft, mit der die Slackline gespannt ist? Gib die allgemeine Formel an, und berechne den Zahlenwert für m = 70 kg, L = 6 m, d = 40 cm.\n"
   ]
  },
  {
   "cell_type": "markdown",
   "metadata": {},
   "source": [
    "\n",
    "\n",
    "\n",
    "\n",
    "\n",
    "\n",
    "\n",
    "\n"
   ]
  },
  {
   "cell_type": "code",
   "execution_count": 2,
   "metadata": {},
   "outputs": [
    {
     "name": "stdout",
     "output_type": "stream",
     "text": [
      "F_down = 686.7 N\n",
      "s = 3.026549190084311 m\n",
      "F_vert = 2597.914161038621 N\n"
     ]
    }
   ],
   "source": [
    "import math \n",
    "\n",
    "m = 70 #kg\n",
    "L = 6 #m\n",
    "d = 40*pow(10,-2) #m\n",
    "g = 9.81 #m/s^2\n",
    "\n",
    "F_down = m*g\n",
    "\n",
    "#F_spann muss in vertikale und horizontale Komponenten geteilt werden\n",
    "# durch Dreieck und Pythagoras auf s schließen\n",
    "s = math.sqrt(pow(d,2)+pow(L/2,2))\n",
    "# vertikale Komponente durch den sin()\n",
    "sin_phi = d/s\n",
    "\n",
    "# F_vert ist doppelt, links & rechts da\n",
    "# 2*F_vert*sin_phi == m*g\n",
    "F_vert = F_down/(2*sin_phi)\n",
    "\n",
    "print(f'F_down = {F_down} N\\ns = {s} m\\nF_vert = {F_vert} N')\n"
   ]
  },
  {
   "cell_type": "markdown",
   "metadata": {},
   "source": [
    "## Aufgabe 1.2\n",
    "Bewegungen. Bestimme fur ¨ eine der folgenden eindimensionalen, durch x(t) beschriebenen Bewegungen die Geschwindigkeit v(t) und die Beschleunigung a(t), skizziere die entsprechenden Graphen und disukutiere die Bewegung qualitativ.\n",
    "x1(t) = e\n",
    "−t\n",
    "cost , x2(t) = ln(2 − e\n",
    "−t\n",
    ") , x3(t) = √\n",
    "1 − t\n",
    "2\n",
    "[Hinweis: Wir betrachten hier x und t als reine Zahlenwerte (fixierte Einheiten).]"
   ]
  },
  {
   "cell_type": "code",
   "execution_count": null,
   "metadata": {},
   "outputs": [],
   "source": []
  },
  {
   "cell_type": "markdown",
   "metadata": {},
   "source": [
    "## Aufgabe 1.3\n",
    "Gravitationsbeschleunigung.\n",
    "(a) Ein Planet habe eine mittlere Massendichte ¯ρ und den Radius R. Gib die\n",
    "Gravitationsbeschleunigung gPlanet an der Oberfl¨ache des Planeten an.\n",
    "(b) Welche Masse M musste ein schwarzes Loch haben, damit die Gravitationsbe- ¨\n",
    "schleunigung in einer Entfernung von r = 1 mm genauso groß wie die Erdbeschleunigung g ist?\n"
   ]
  },
  {
   "cell_type": "code",
   "execution_count": null,
   "metadata": {},
   "outputs": [],
   "source": []
  },
  {
   "cell_type": "markdown",
   "metadata": {},
   "source": [
    "## Aufgabe 1.4\n",
    "Bremswege. Im Folgenden betrachten wir den Bremsweg eines Fahrzeugs. Der\n",
    "Betrag |F⃗\n",
    "R| der Reibungskraft ist dabei proportional zum Betrag |N⃗ | der Kraft N⃗ ,\n",
    "mit der das Fahrzeug auf die Oberfl¨ache gedruckt wird (Normalkraft), ¨\n",
    "|F⃗\n",
    "R| = µ |N⃗ | ,\n",
    "mit einem Reibungskoeffizienten µ. Die Reibungskraft wirkt entgegengesetzt zur\n",
    "Geschwindigkeit.\n",
    "(a) Stelle die eindimensionale Bewegungsgleichung fur ein Fahrzeug auf, das sich ¨\n",
    "in positiver x-Richtung bewegt, wobei die Normalkraft durch die Gravitationsbeschleunigung g zustande kommt.\n",
    "(b) Gib die L¨osung x(t) fur die Anfangsbedingungen ¨ x(0) = 0 und ˙x(0) = v0 an.\n",
    "(c) Bestimme den Bremsweg in Abh¨angigkeit von v0, g und µ.\n",
    "(d) Was ist der Bremsweg fur ¨ v0 = 100 km/h, µ = 0, 8 und g ≈ 9, 8 m/s\n",
    "2\n",
    "? Welche\n",
    "Geschwindigkeit musste ein Fahrzeug auf dem Mars ( ¨ gMars ≈ 3, 7 m/s\n",
    "2\n",
    ") haben\n",
    "fur den gleichen Bremsweg?"
   ]
  },
  {
   "cell_type": "code",
   "execution_count": null,
   "metadata": {},
   "outputs": [],
   "source": []
  }
 ],
 "metadata": {
  "kernelspec": {
   "display_name": "Python 3 (ipykernel)",
   "language": "python",
   "name": "python3"
  },
  "language_info": {
   "codemirror_mode": {
    "name": "ipython",
    "version": 3
   },
   "file_extension": ".py",
   "mimetype": "text/x-python",
   "name": "python",
   "nbconvert_exporter": "python",
   "pygments_lexer": "ipython3",
   "version": "3.12.1"
  }
 },
 "nbformat": 4,
 "nbformat_minor": 4
}
