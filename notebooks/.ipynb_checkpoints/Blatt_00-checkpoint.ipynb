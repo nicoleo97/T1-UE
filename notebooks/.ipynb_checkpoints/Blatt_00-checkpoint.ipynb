{
 "cells": [
  {
   "cell_type": "markdown",
   "metadata": {},
   "source": [
    "# Blatt 0\n",
    "### Übung zur Theoretisch Physik 1"
   ]
  },
  {
   "cell_type": "markdown",
   "metadata": {},
   "source": [
    "## Aufgabe 0.1\n",
    "Berechne die (Beschleunigungs-)Arbeit, die verrichtet werden muss, um einen Körper\n",
    "der Masse m auf einer als reibungsfrei angenommenen Unterlage aus der Ruhe bis auf eine\n",
    "Geschwindigkeit v zu beschleunigen."
   ]
  },
  {
   "cell_type": "code",
   "execution_count": 1,
   "metadata": {},
   "outputs": [],
   "source": [
    "def Beschleunigungsarbeit(masse,geschwindigkeit):\n",
    "    return masse*geschwindigkeit"
   ]
  },
  {
   "cell_type": "code",
   "execution_count": null,
   "metadata": {},
   "outputs": [
    {
     "data": {
      "text/plain": [
       "4"
      ]
     },
     "execution_count": 2,
     "metadata": {},
     "output_type": "execute_result"
    }
   ],
   "source": [
    "Beschleunigungsarbeit(2,4)"
   ]
  },
  {
   "cell_type": "markdown",
   "metadata": {},
   "source": [
    "## Aufgabe 0.2\n",
    "Berechne die (Hub-)Arbeit, die verrichtet werden muss, um einen Körper der Masse m\n",
    "im Schwerefeld der Erde um eine Höhendifferenz ∆h zu heben."
   ]
  },
  {
   "cell_type": "code",
   "execution_count": null,
   "metadata": {},
   "outputs": [],
   "source": []
  },
  {
   "cell_type": "markdown",
   "metadata": {},
   "source": [
    "## Aufgabe 0.3\n",
    "Berechne die Arbeit, die verrichtet werden muss, um einen Körper der Masse m auf\n",
    "einer als reibungsfrei angenommenen Unterlage im Schwerefeld der Erde eine schiefe Ebene\n",
    "hinaufzuziehen. Von welchen Parametern der schiefen Ebene hängt das Resultat ab?"
   ]
  },
  {
   "cell_type": "code",
   "execution_count": null,
   "metadata": {},
   "outputs": [],
   "source": []
  }
 ],
 "metadata": {
  "kernelspec": {
   "display_name": "Python 3",
   "language": "python",
   "name": "python3"
  },
  "language_info": {
   "codemirror_mode": {
    "name": "ipython",
    "version": 3
   },
   "file_extension": ".py",
   "mimetype": "text/x-python",
   "name": "python",
   "nbconvert_exporter": "python",
   "pygments_lexer": "ipython3",
   "version": "3.12.1"
  }
 },
 "nbformat": 4,
 "nbformat_minor": 2
}
